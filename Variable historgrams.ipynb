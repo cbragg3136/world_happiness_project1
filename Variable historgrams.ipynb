{
 "cells": [
  {
   "cell_type": "code",
   "execution_count": 10,
   "metadata": {},
   "outputs": [],
   "source": [
    "# Resources\n",
    "import numpy as np\n",
    "import pandas as pd\n",
    "import matplotlib.pyplot as plt\n",
    "from scipy.stats import linregress"
   ]
  },
  {
   "cell_type": "code",
   "execution_count": 11,
   "metadata": {},
   "outputs": [],
   "source": [
    "# read in data files\n",
    "year_data = pd.read_csv(\"Resources/updated_happy_data_averages.csv\")"
   ]
  },
  {
   "cell_type": "code",
   "execution_count": 12,
   "metadata": {},
   "outputs": [
    {
     "data": {
      "text/html": [
       "<div>\n",
       "<style scoped>\n",
       "    .dataframe tbody tr th:only-of-type {\n",
       "        vertical-align: middle;\n",
       "    }\n",
       "\n",
       "    .dataframe tbody tr th {\n",
       "        vertical-align: top;\n",
       "    }\n",
       "\n",
       "    .dataframe thead th {\n",
       "        text-align: right;\n",
       "    }\n",
       "</style>\n",
       "<table border=\"1\" class=\"dataframe\">\n",
       "  <thead>\n",
       "    <tr style=\"text-align: right;\">\n",
       "      <th></th>\n",
       "      <th>Country</th>\n",
       "      <th>Happy</th>\n",
       "      <th>Economy</th>\n",
       "      <th>Family</th>\n",
       "      <th>Health</th>\n",
       "      <th>Freedom</th>\n",
       "      <th>Generous</th>\n",
       "      <th>Trust</th>\n",
       "    </tr>\n",
       "  </thead>\n",
       "  <tbody>\n",
       "    <tr>\n",
       "      <th>0</th>\n",
       "      <td>Afghanistan</td>\n",
       "      <td>2.56690</td>\n",
       "      <td>7.462861</td>\n",
       "      <td>0.470367</td>\n",
       "      <td>52.590000</td>\n",
       "      <td>0.396573</td>\n",
       "      <td>-0.096429</td>\n",
       "      <td>0.933687</td>\n",
       "    </tr>\n",
       "    <tr>\n",
       "      <th>1</th>\n",
       "      <td>Albania</td>\n",
       "      <td>4.88270</td>\n",
       "      <td>9.417931</td>\n",
       "      <td>0.671070</td>\n",
       "      <td>68.708138</td>\n",
       "      <td>0.781994</td>\n",
       "      <td>-0.042309</td>\n",
       "      <td>0.896304</td>\n",
       "    </tr>\n",
       "    <tr>\n",
       "      <th>2</th>\n",
       "      <td>Algeria</td>\n",
       "      <td>5.00510</td>\n",
       "      <td>9.537965</td>\n",
       "      <td>0.803385</td>\n",
       "      <td>65.905174</td>\n",
       "      <td>0.466611</td>\n",
       "      <td>-0.121105</td>\n",
       "      <td>0.735485</td>\n",
       "    </tr>\n",
       "    <tr>\n",
       "      <th>3</th>\n",
       "      <td>Argentina</td>\n",
       "      <td>5.97470</td>\n",
       "      <td>9.810955</td>\n",
       "      <td>0.900568</td>\n",
       "      <td>68.803802</td>\n",
       "      <td>0.831132</td>\n",
       "      <td>-0.194914</td>\n",
       "      <td>0.842010</td>\n",
       "    </tr>\n",
       "    <tr>\n",
       "      <th>4</th>\n",
       "      <td>Armenia</td>\n",
       "      <td>4.67680</td>\n",
       "      <td>9.100476</td>\n",
       "      <td>0.757479</td>\n",
       "      <td>66.750656</td>\n",
       "      <td>0.712018</td>\n",
       "      <td>-0.138780</td>\n",
       "      <td>0.773545</td>\n",
       "    </tr>\n",
       "    <tr>\n",
       "      <th>...</th>\n",
       "      <td>...</td>\n",
       "      <td>...</td>\n",
       "      <td>...</td>\n",
       "      <td>...</td>\n",
       "      <td>...</td>\n",
       "      <td>...</td>\n",
       "      <td>...</td>\n",
       "      <td>...</td>\n",
       "    </tr>\n",
       "    <tr>\n",
       "      <th>149</th>\n",
       "      <td>Vietnam</td>\n",
       "      <td>5.35350</td>\n",
       "      <td>8.809546</td>\n",
       "      <td>0.849987</td>\n",
       "      <td>67.952736</td>\n",
       "      <td>0.939593</td>\n",
       "      <td>-0.094533</td>\n",
       "      <td>0.796421</td>\n",
       "    </tr>\n",
       "    <tr>\n",
       "      <th>150</th>\n",
       "      <td>Yemen</td>\n",
       "      <td>3.52740</td>\n",
       "      <td>7.759683</td>\n",
       "      <td>0.817981</td>\n",
       "      <td>56.727283</td>\n",
       "      <td>0.599920</td>\n",
       "      <td>-0.157735</td>\n",
       "      <td>0.800288</td>\n",
       "    </tr>\n",
       "    <tr>\n",
       "      <th>151</th>\n",
       "      <td>Zambia</td>\n",
       "      <td>3.75940</td>\n",
       "      <td>8.224720</td>\n",
       "      <td>0.698824</td>\n",
       "      <td>55.299377</td>\n",
       "      <td>0.806500</td>\n",
       "      <td>0.078037</td>\n",
       "      <td>0.801290</td>\n",
       "    </tr>\n",
       "    <tr>\n",
       "      <th>152</th>\n",
       "      <td>Zimbabwe</td>\n",
       "      <td>3.29920</td>\n",
       "      <td>7.865712</td>\n",
       "      <td>0.763093</td>\n",
       "      <td>55.617260</td>\n",
       "      <td>0.711458</td>\n",
       "      <td>-0.072064</td>\n",
       "      <td>0.810237</td>\n",
       "    </tr>\n",
       "    <tr>\n",
       "      <th>153</th>\n",
       "      <td>Grand Total</td>\n",
       "      <td>5.47324</td>\n",
       "      <td>9.295706</td>\n",
       "      <td>0.808721</td>\n",
       "      <td>64.445529</td>\n",
       "      <td>0.783360</td>\n",
       "      <td>-0.014568</td>\n",
       "      <td>0.733120</td>\n",
       "    </tr>\n",
       "  </tbody>\n",
       "</table>\n",
       "<p>154 rows × 8 columns</p>\n",
       "</div>"
      ],
      "text/plain": [
       "         Country    Happy   Economy    Family     Health   Freedom  Generous  \\\n",
       "0    Afghanistan  2.56690  7.462861  0.470367  52.590000  0.396573 -0.096429   \n",
       "1        Albania  4.88270  9.417931  0.671070  68.708138  0.781994 -0.042309   \n",
       "2        Algeria  5.00510  9.537965  0.803385  65.905174  0.466611 -0.121105   \n",
       "3      Argentina  5.97470  9.810955  0.900568  68.803802  0.831132 -0.194914   \n",
       "4        Armenia  4.67680  9.100476  0.757479  66.750656  0.712018 -0.138780   \n",
       "..           ...      ...       ...       ...        ...       ...       ...   \n",
       "149      Vietnam  5.35350  8.809546  0.849987  67.952736  0.939593 -0.094533   \n",
       "150        Yemen  3.52740  7.759683  0.817981  56.727283  0.599920 -0.157735   \n",
       "151       Zambia  3.75940  8.224720  0.698824  55.299377  0.806500  0.078037   \n",
       "152     Zimbabwe  3.29920  7.865712  0.763093  55.617260  0.711458 -0.072064   \n",
       "153  Grand Total  5.47324  9.295706  0.808721  64.445529  0.783360 -0.014568   \n",
       "\n",
       "        Trust  \n",
       "0    0.933687  \n",
       "1    0.896304  \n",
       "2    0.735485  \n",
       "3    0.842010  \n",
       "4    0.773545  \n",
       "..        ...  \n",
       "149  0.796421  \n",
       "150  0.800288  \n",
       "151  0.801290  \n",
       "152  0.810237  \n",
       "153  0.733120  \n",
       "\n",
       "[154 rows x 8 columns]"
      ]
     },
     "execution_count": 12,
     "metadata": {},
     "output_type": "execute_result"
    }
   ],
   "source": [
    "year_data"
   ]
  },
  {
   "cell_type": "code",
   "execution_count": 13,
   "metadata": {},
   "outputs": [],
   "source": [
    "# read in data files\n",
    "work_ratio = pd.read_csv(\"Workforce_ratio/Workforce_ratio_df.csv\")"
   ]
  },
  {
   "cell_type": "code",
   "execution_count": 14,
   "metadata": {
    "scrolled": true
   },
   "outputs": [
    {
     "data": {
      "text/html": [
       "<div>\n",
       "<style scoped>\n",
       "    .dataframe tbody tr th:only-of-type {\n",
       "        vertical-align: middle;\n",
       "    }\n",
       "\n",
       "    .dataframe tbody tr th {\n",
       "        vertical-align: top;\n",
       "    }\n",
       "\n",
       "    .dataframe thead th {\n",
       "        text-align: right;\n",
       "    }\n",
       "</style>\n",
       "<table border=\"1\" class=\"dataframe\">\n",
       "  <thead>\n",
       "    <tr style=\"text-align: right;\">\n",
       "      <th></th>\n",
       "      <th>Unnamed: 0</th>\n",
       "      <th>Country Name</th>\n",
       "      <th>2015 [YR2015]</th>\n",
       "      <th>2016 [YR2016]</th>\n",
       "      <th>2017 [YR2017]</th>\n",
       "      <th>2018 [YR2018]</th>\n",
       "      <th>2019 [YR2019]</th>\n",
       "      <th>Workforce Ratio Five Year Average</th>\n",
       "      <th>Workforce Ratio Five Year Median</th>\n",
       "      <th>Workforce Ratio Five Year Max</th>\n",
       "      <th>Workforce Ratio Five Year Min</th>\n",
       "      <th>Workforce Ratio Five Year STD</th>\n",
       "    </tr>\n",
       "  </thead>\n",
       "  <tbody>\n",
       "    <tr>\n",
       "      <th>0</th>\n",
       "      <td>0</td>\n",
       "      <td>Afghanistan</td>\n",
       "      <td>24.620070</td>\n",
       "      <td>26.284064</td>\n",
       "      <td>28.063156</td>\n",
       "      <td>28.666658</td>\n",
       "      <td>28.925233</td>\n",
       "      <td>27.311836</td>\n",
       "      <td>28.063156</td>\n",
       "      <td>28.925233</td>\n",
       "      <td>24.620070</td>\n",
       "      <td>1.823801</td>\n",
       "    </tr>\n",
       "    <tr>\n",
       "      <th>1</th>\n",
       "      <td>1</td>\n",
       "      <td>Albania</td>\n",
       "      <td>72.226226</td>\n",
       "      <td>72.149044</td>\n",
       "      <td>72.171071</td>\n",
       "      <td>72.305482</td>\n",
       "      <td>72.345436</td>\n",
       "      <td>72.239452</td>\n",
       "      <td>72.226226</td>\n",
       "      <td>72.345436</td>\n",
       "      <td>72.149044</td>\n",
       "      <td>0.084583</td>\n",
       "    </tr>\n",
       "    <tr>\n",
       "      <th>2</th>\n",
       "      <td>2</td>\n",
       "      <td>Algeria</td>\n",
       "      <td>22.520465</td>\n",
       "      <td>22.261553</td>\n",
       "      <td>21.916027</td>\n",
       "      <td>21.559497</td>\n",
       "      <td>21.647083</td>\n",
       "      <td>21.980925</td>\n",
       "      <td>21.916027</td>\n",
       "      <td>22.520465</td>\n",
       "      <td>21.559497</td>\n",
       "      <td>0.407161</td>\n",
       "    </tr>\n",
       "    <tr>\n",
       "      <th>3</th>\n",
       "      <td>5</td>\n",
       "      <td>Angola</td>\n",
       "      <td>96.157006</td>\n",
       "      <td>96.179759</td>\n",
       "      <td>96.280556</td>\n",
       "      <td>96.405459</td>\n",
       "      <td>96.480934</td>\n",
       "      <td>96.300743</td>\n",
       "      <td>96.280556</td>\n",
       "      <td>96.480934</td>\n",
       "      <td>96.157006</td>\n",
       "      <td>0.140659</td>\n",
       "    </tr>\n",
       "    <tr>\n",
       "      <th>4</th>\n",
       "      <td>7</td>\n",
       "      <td>Arab World</td>\n",
       "      <td>31.203870</td>\n",
       "      <td>31.570983</td>\n",
       "      <td>31.090193</td>\n",
       "      <td>31.053936</td>\n",
       "      <td>31.095213</td>\n",
       "      <td>31.202839</td>\n",
       "      <td>31.095213</td>\n",
       "      <td>31.570983</td>\n",
       "      <td>31.053936</td>\n",
       "      <td>0.213293</td>\n",
       "    </tr>\n",
       "    <tr>\n",
       "      <th>...</th>\n",
       "      <td>...</td>\n",
       "      <td>...</td>\n",
       "      <td>...</td>\n",
       "      <td>...</td>\n",
       "      <td>...</td>\n",
       "      <td>...</td>\n",
       "      <td>...</td>\n",
       "      <td>...</td>\n",
       "      <td>...</td>\n",
       "      <td>...</td>\n",
       "      <td>...</td>\n",
       "      <td>...</td>\n",
       "    </tr>\n",
       "    <tr>\n",
       "      <th>228</th>\n",
       "      <td>258</td>\n",
       "      <td>West Bank and Gaza</td>\n",
       "      <td>25.466898</td>\n",
       "      <td>24.650541</td>\n",
       "      <td>24.904648</td>\n",
       "      <td>25.251809</td>\n",
       "      <td>25.458653</td>\n",
       "      <td>25.146510</td>\n",
       "      <td>25.251809</td>\n",
       "      <td>25.466898</td>\n",
       "      <td>24.650541</td>\n",
       "      <td>0.359045</td>\n",
       "    </tr>\n",
       "    <tr>\n",
       "      <th>229</th>\n",
       "      <td>259</td>\n",
       "      <td>World</td>\n",
       "      <td>66.518681</td>\n",
       "      <td>66.575823</td>\n",
       "      <td>66.664838</td>\n",
       "      <td>66.765114</td>\n",
       "      <td>66.622001</td>\n",
       "      <td>66.629291</td>\n",
       "      <td>66.622001</td>\n",
       "      <td>66.765114</td>\n",
       "      <td>66.518681</td>\n",
       "      <td>0.093352</td>\n",
       "    </tr>\n",
       "    <tr>\n",
       "      <th>230</th>\n",
       "      <td>260</td>\n",
       "      <td>Yemen, Rep.</td>\n",
       "      <td>8.827057</td>\n",
       "      <td>8.680857</td>\n",
       "      <td>8.592481</td>\n",
       "      <td>8.530671</td>\n",
       "      <td>8.312555</td>\n",
       "      <td>8.588724</td>\n",
       "      <td>8.592481</td>\n",
       "      <td>8.827057</td>\n",
       "      <td>8.312555</td>\n",
       "      <td>0.190358</td>\n",
       "    </tr>\n",
       "    <tr>\n",
       "      <th>231</th>\n",
       "      <td>261</td>\n",
       "      <td>Zambia</td>\n",
       "      <td>87.439009</td>\n",
       "      <td>87.833617</td>\n",
       "      <td>88.313809</td>\n",
       "      <td>88.846524</td>\n",
       "      <td>88.990346</td>\n",
       "      <td>88.284661</td>\n",
       "      <td>88.313809</td>\n",
       "      <td>88.990346</td>\n",
       "      <td>87.439009</td>\n",
       "      <td>0.658236</td>\n",
       "    </tr>\n",
       "    <tr>\n",
       "      <th>232</th>\n",
       "      <td>262</td>\n",
       "      <td>Zimbabwe</td>\n",
       "      <td>87.297702</td>\n",
       "      <td>87.273767</td>\n",
       "      <td>87.400802</td>\n",
       "      <td>87.640425</td>\n",
       "      <td>87.766460</td>\n",
       "      <td>87.475831</td>\n",
       "      <td>87.400802</td>\n",
       "      <td>87.766460</td>\n",
       "      <td>87.273767</td>\n",
       "      <td>0.217799</td>\n",
       "    </tr>\n",
       "  </tbody>\n",
       "</table>\n",
       "<p>233 rows × 12 columns</p>\n",
       "</div>"
      ],
      "text/plain": [
       "     Unnamed: 0        Country Name  2015 [YR2015]  2016 [YR2016]  \\\n",
       "0             0         Afghanistan      24.620070      26.284064   \n",
       "1             1             Albania      72.226226      72.149044   \n",
       "2             2             Algeria      22.520465      22.261553   \n",
       "3             5              Angola      96.157006      96.179759   \n",
       "4             7          Arab World      31.203870      31.570983   \n",
       "..          ...                 ...            ...            ...   \n",
       "228         258  West Bank and Gaza      25.466898      24.650541   \n",
       "229         259               World      66.518681      66.575823   \n",
       "230         260         Yemen, Rep.       8.827057       8.680857   \n",
       "231         261              Zambia      87.439009      87.833617   \n",
       "232         262            Zimbabwe      87.297702      87.273767   \n",
       "\n",
       "     2017 [YR2017]  2018 [YR2018]  2019 [YR2019]  \\\n",
       "0        28.063156      28.666658      28.925233   \n",
       "1        72.171071      72.305482      72.345436   \n",
       "2        21.916027      21.559497      21.647083   \n",
       "3        96.280556      96.405459      96.480934   \n",
       "4        31.090193      31.053936      31.095213   \n",
       "..             ...            ...            ...   \n",
       "228      24.904648      25.251809      25.458653   \n",
       "229      66.664838      66.765114      66.622001   \n",
       "230       8.592481       8.530671       8.312555   \n",
       "231      88.313809      88.846524      88.990346   \n",
       "232      87.400802      87.640425      87.766460   \n",
       "\n",
       "     Workforce Ratio Five Year Average  Workforce Ratio Five Year Median  \\\n",
       "0                            27.311836                         28.063156   \n",
       "1                            72.239452                         72.226226   \n",
       "2                            21.980925                         21.916027   \n",
       "3                            96.300743                         96.280556   \n",
       "4                            31.202839                         31.095213   \n",
       "..                                 ...                               ...   \n",
       "228                          25.146510                         25.251809   \n",
       "229                          66.629291                         66.622001   \n",
       "230                           8.588724                          8.592481   \n",
       "231                          88.284661                         88.313809   \n",
       "232                          87.475831                         87.400802   \n",
       "\n",
       "     Workforce Ratio Five Year Max  Workforce Ratio Five Year Min  \\\n",
       "0                        28.925233                      24.620070   \n",
       "1                        72.345436                      72.149044   \n",
       "2                        22.520465                      21.559497   \n",
       "3                        96.480934                      96.157006   \n",
       "4                        31.570983                      31.053936   \n",
       "..                             ...                            ...   \n",
       "228                      25.466898                      24.650541   \n",
       "229                      66.765114                      66.518681   \n",
       "230                       8.827057                       8.312555   \n",
       "231                      88.990346                      87.439009   \n",
       "232                      87.766460                      87.273767   \n",
       "\n",
       "     Workforce Ratio Five Year STD  \n",
       "0                         1.823801  \n",
       "1                         0.084583  \n",
       "2                         0.407161  \n",
       "3                         0.140659  \n",
       "4                         0.213293  \n",
       "..                             ...  \n",
       "228                       0.359045  \n",
       "229                       0.093352  \n",
       "230                       0.190358  \n",
       "231                       0.658236  \n",
       "232                       0.217799  \n",
       "\n",
       "[233 rows x 12 columns]"
      ]
     },
     "execution_count": 14,
     "metadata": {},
     "output_type": "execute_result"
    }
   ],
   "source": [
    "work_ratio"
   ]
  },
  {
   "cell_type": "code",
   "execution_count": 15,
   "metadata": {},
   "outputs": [],
   "source": [
    "# read in data files\n",
    "gini_data = pd.read_csv(\"Resources/all_variables_avg.csv\")"
   ]
  },
  {
   "cell_type": "code",
   "execution_count": 16,
   "metadata": {},
   "outputs": [
    {
     "data": {
      "text/html": [
       "<div>\n",
       "<style scoped>\n",
       "    .dataframe tbody tr th:only-of-type {\n",
       "        vertical-align: middle;\n",
       "    }\n",
       "\n",
       "    .dataframe tbody tr th {\n",
       "        vertical-align: top;\n",
       "    }\n",
       "\n",
       "    .dataframe thead th {\n",
       "        text-align: right;\n",
       "    }\n",
       "</style>\n",
       "<table border=\"1\" class=\"dataframe\">\n",
       "  <thead>\n",
       "    <tr style=\"text-align: right;\">\n",
       "      <th></th>\n",
       "      <th>Unnamed: 0</th>\n",
       "      <th>Country</th>\n",
       "      <th>Gini Index Five Year Average</th>\n",
       "      <th>Workforce Ratio Five Year Average</th>\n",
       "      <th>Happy</th>\n",
       "      <th>Economy</th>\n",
       "      <th>Family</th>\n",
       "      <th>Health</th>\n",
       "      <th>Freedom</th>\n",
       "      <th>Trust</th>\n",
       "      <th>Generous</th>\n",
       "    </tr>\n",
       "  </thead>\n",
       "  <tbody>\n",
       "    <tr>\n",
       "      <th>0</th>\n",
       "      <td>0</td>\n",
       "      <td>Albania</td>\n",
       "      <td>33.266667</td>\n",
       "      <td>72.239452</td>\n",
       "      <td>4.8827</td>\n",
       "      <td>9.417931</td>\n",
       "      <td>0.671070</td>\n",
       "      <td>68.708138</td>\n",
       "      <td>0.781994</td>\n",
       "      <td>0.896304</td>\n",
       "      <td>-0.042309</td>\n",
       "    </tr>\n",
       "    <tr>\n",
       "      <th>1</th>\n",
       "      <td>1</td>\n",
       "      <td>Argentina</td>\n",
       "      <td>41.533333</td>\n",
       "      <td>67.997396</td>\n",
       "      <td>5.9747</td>\n",
       "      <td>9.810955</td>\n",
       "      <td>0.900568</td>\n",
       "      <td>68.803802</td>\n",
       "      <td>0.831132</td>\n",
       "      <td>0.842010</td>\n",
       "      <td>-0.194914</td>\n",
       "    </tr>\n",
       "    <tr>\n",
       "      <th>2</th>\n",
       "      <td>2</td>\n",
       "      <td>Armenia</td>\n",
       "      <td>33.225000</td>\n",
       "      <td>71.844352</td>\n",
       "      <td>4.6768</td>\n",
       "      <td>9.100476</td>\n",
       "      <td>0.757479</td>\n",
       "      <td>66.750656</td>\n",
       "      <td>0.712018</td>\n",
       "      <td>0.773545</td>\n",
       "      <td>-0.138780</td>\n",
       "    </tr>\n",
       "    <tr>\n",
       "      <th>3</th>\n",
       "      <td>3</td>\n",
       "      <td>Austria</td>\n",
       "      <td>30.333333</td>\n",
       "      <td>82.749968</td>\n",
       "      <td>7.2942</td>\n",
       "      <td>10.742824</td>\n",
       "      <td>0.928046</td>\n",
       "      <td>73.002502</td>\n",
       "      <td>0.899989</td>\n",
       "      <td>0.499955</td>\n",
       "      <td>0.085429</td>\n",
       "    </tr>\n",
       "    <tr>\n",
       "      <th>4</th>\n",
       "      <td>4</td>\n",
       "      <td>Bangladesh</td>\n",
       "      <td>32.400000</td>\n",
       "      <td>42.876669</td>\n",
       "      <td>4.8328</td>\n",
       "      <td>8.287064</td>\n",
       "      <td>0.687293</td>\n",
       "      <td>64.503067</td>\n",
       "      <td>0.900625</td>\n",
       "      <td>0.661844</td>\n",
       "      <td>-0.033665</td>\n",
       "    </tr>\n",
       "  </tbody>\n",
       "</table>\n",
       "</div>"
      ],
      "text/plain": [
       "   Unnamed: 0     Country  Gini Index Five Year Average  \\\n",
       "0           0     Albania                     33.266667   \n",
       "1           1   Argentina                     41.533333   \n",
       "2           2     Armenia                     33.225000   \n",
       "3           3     Austria                     30.333333   \n",
       "4           4  Bangladesh                     32.400000   \n",
       "\n",
       "   Workforce Ratio Five Year Average   Happy    Economy    Family     Health  \\\n",
       "0                          72.239452  4.8827   9.417931  0.671070  68.708138   \n",
       "1                          67.997396  5.9747   9.810955  0.900568  68.803802   \n",
       "2                          71.844352  4.6768   9.100476  0.757479  66.750656   \n",
       "3                          82.749968  7.2942  10.742824  0.928046  73.002502   \n",
       "4                          42.876669  4.8328   8.287064  0.687293  64.503067   \n",
       "\n",
       "    Freedom     Trust  Generous  \n",
       "0  0.781994  0.896304 -0.042309  \n",
       "1  0.831132  0.842010 -0.194914  \n",
       "2  0.712018  0.773545 -0.138780  \n",
       "3  0.899989  0.499955  0.085429  \n",
       "4  0.900625  0.661844 -0.033665  "
      ]
     },
     "execution_count": 16,
     "metadata": {},
     "output_type": "execute_result"
    }
   ],
   "source": [
    "gini_data.head()"
   ]
  },
  {
   "cell_type": "code",
   "execution_count": 17,
   "metadata": {},
   "outputs": [
    {
     "data": {
      "text/plain": [
       "Unnamed: 0                           47.500000\n",
       "Gini Index Five Year Average         37.520660\n",
       "Workforce Ratio Five Year Average    75.378208\n",
       "Happy                                 5.656555\n",
       "Economy                               9.519351\n",
       "dtype: float64"
      ]
     },
     "execution_count": 17,
     "metadata": {},
     "output_type": "execute_result"
    }
   ],
   "source": [
    "ave_country_gini = gini_data.mean()\n",
    "ave_country_gini.head()"
   ]
  },
  {
   "cell_type": "code",
   "execution_count": 18,
   "metadata": {},
   "outputs": [
    {
     "data": {
      "text/plain": [
       "Index(['Country', 'Happy', 'Economy', 'Family', 'Health', 'Freedom',\n",
       "       'Generous', 'Trust'],\n",
       "      dtype='object')"
      ]
     },
     "execution_count": 18,
     "metadata": {},
     "output_type": "execute_result"
    }
   ],
   "source": [
    "# HAPPY DATA\n",
    "year_data.columns\n"
   ]
  },
  {
   "cell_type": "code",
   "execution_count": 19,
   "metadata": {},
   "outputs": [
    {
     "data": {
      "image/png": "[encoded data removed]",
      "text/plain": [
       "<Figure size 432x288 with 1 Axes>"
      ]
     },
     "metadata": {
      "needs_background": "light"
     },
     "output_type": "display_data"
    }
   ],
   "source": [
    "# Histograms of data\n",
    "#histogram of happiness by country\n",
    "happy =[]\n",
    "happy = year_data['Happy']\n",
    "fig =happy.plot.hist(bins=10, alpha=0.4, color='brown').get_figure()\n",
    "plt.title('Happiness Histogram')\n",
    "plt.ylabel('Country Frequency')\n",
    "plt.xlabel('World Gallup Happiness Score')\n",
    "plt.show()\n",
    "\n",
    "fig.savefig('Analysis_Figures_Images/happiness_hist.png')\n",
    "\n",
    "#Economy\tFamily\tHealth\tFreedom\tTrust\tGenerous\n",
    "# splitting out a dataframe per value\n",
    "fam = year_data['Family']\n",
    "health = year_data['Health']\n",
    "freed = year_data['Freedom']\n",
    "trust = year_data['Trust']\n",
    "gen = year_data['Generous']\n",
    "econ = year_data['Economy']"
   ]
  },
  {
   "cell_type": "code",
   "execution_count": 20,
   "metadata": {},
   "outputs": [
    {
     "data": {
      "image/png": "[encoded data removed]",
      "text/plain": [
       "<Figure size 432x288 with 1 Axes>"
      ]
     },
     "metadata": {
      "needs_background": "light"
     },
     "output_type": "display_data"
    }
   ],
   "source": [
    "#histogram for GPD/Economy\n",
    "gdp =[]\n",
    "gdp = year_data['Economy']\n",
    "\n",
    "fig =gdp.plot.hist(bins=10, alpha=0.4).get_figure()\n",
    "plt.title('Log GDP Histogram')\n",
    "plt.ylabel('Country Frequency')\n",
    "plt.xlabel('Log GDP Bins')\n",
    "plt.show()\n",
    "\n",
    "fig.savefig('Analysis_Figures_Images/gdp_hist.png')"
   ]
  },
  {
   "cell_type": "code",
   "execution_count": 21,
   "metadata": {},
   "outputs": [
    {
     "data": {
      "image/png": "[encoded data removed]",
      "text/plain": [
       "<Figure size 432x288 with 1 Axes>"
      ]
     },
     "metadata": {
      "needs_background": "light"
     },
     "output_type": "display_data"
    }
   ],
   "source": [
    "#histogram for family\n",
    "fig =fam.plot.hist(bins=10, alpha=0.4, color='r').get_figure()\n",
    "\n",
    "plt.title('Family - Social Support Histogram')\n",
    "plt.ylabel('Country Frequency')\n",
    "plt.xlabel('Binary Average of National Responses')\n",
    "plt.show()\n",
    "\n",
    "fig.savefig('Analysis_Figures_Images/fam_hist.png')"
   ]
  },
  {
   "cell_type": "code",
   "execution_count": 22,
   "metadata": {},
   "outputs": [
    {
     "data": {
      "image/png": "[encoded data removed]",
      "text/plain": [
       "<Figure size 432x288 with 1 Axes>"
      ]
     },
     "metadata": {
      "needs_background": "light"
     },
     "output_type": "display_data"
    }
   ],
   "source": [
    "#histogram for heatlh expectancy\n",
    "fig =health.plot.hist(bins=10, alpha=0.4, color='k').get_figure()\n",
    "plt.title('Healthly Life Expectancy at Birth Historgram')\n",
    "plt.ylabel('Country Frequency')\n",
    "plt.xlabel('Binary Average of National Responses')\n",
    "plt.show()\n",
    "fig.savefig('Analysis_Figures_Images/health_hist.png')"
   ]
  },
  {
   "cell_type": "code",
   "execution_count": 23,
   "metadata": {},
   "outputs": [
    {
     "data": {
      "image/png": "[encoded data removed]",
      "text/plain": [
       "<Figure size 432x288 with 1 Axes>"
      ]
     },
     "metadata": {
      "needs_background": "light"
     },
     "output_type": "display_data"
    }
   ],
   "source": [
    "#histogram for gov trust and business trust\n",
    "fig = trust.plot.hist(bins=10, alpha=0.4, color='y').get_figure()\n",
    "plt.title('Gov - Bus Trust Histogram')\n",
    "plt.ylabel('Country Frequency')\n",
    "plt.xlabel('Binary Average of National Responses')\n",
    "plt.show()\n",
    "\n",
    "fig.savefig('Analysis_Figures_Images/trust_hist.png')"
   ]
  },
  {
   "cell_type": "code",
   "execution_count": 24,
   "metadata": {},
   "outputs": [
    {
     "data": {
      "image/png": "[encoded data removed]",
      "text/plain": [
       "<Figure size 432x288 with 1 Axes>"
      ]
     },
     "metadata": {
      "needs_background": "light"
     },
     "output_type": "display_data"
    }
   ],
   "source": [
    "#histogram for generousity\n",
    "fig = gen.plot.hist(bins=10, alpha=0.4, color='g').get_figure()\n",
    "plt.title('Generousity Histogram')\n",
    "plt.ylabel('Country Frequency')\n",
    "plt.xlabel('Binary Average of National Responses')\n",
    "plt.show()\n",
    "\n",
    "fig.savefig('Analysis_Figures_Images/gener_hist.png')"
   ]
  },
  {
   "cell_type": "code",
   "execution_count": 25,
   "metadata": {},
   "outputs": [
    {
     "data": {
      "image/png": "[encoded data removed]",
      "text/plain": [
       "<Figure size 432x288 with 1 Axes>"
      ]
     },
     "metadata": {
      "needs_background": "light"
     },
     "output_type": "display_data"
    }
   ],
   "source": [
    "#histogram for freedom\n",
    "fig = freed.plot.hist(bins=10, alpha=0.4, color='indigo').get_figure()\n",
    "plt.title('Freedom Histogram')\n",
    "plt.ylabel('Country Frequency')\n",
    "plt.xlabel('Binary Average of National Responses')\n",
    "plt.show()\n",
    "\n",
    "fig.savefig('Analysis_Figures_Images/freed_hist.png')"
   ]
  },
  {
   "cell_type": "code",
   "execution_count": 26,
   "metadata": {},
   "outputs": [
    {
     "data": {
      "image/png": "[encoded data removed]",
      "text/plain": [
       "<Figure size 432x288 with 1 Axes>"
      ]
     },
     "metadata": {
      "needs_background": "light"
     },
     "output_type": "display_data"
    }
   ],
   "source": [
    "#histogram for work gender ratio\n",
    "work_rat = work_ratio['Workforce Ratio Five Year Average']\n",
    "\n",
    "\n",
    "fig = work_rat.plot.hist(bins=10, alpha=0.4, color='m').get_figure()\n",
    "plt.title('Work Ratio Histogram')\n",
    "plt.ylabel('Country Frequency')\n",
    "plt.xlabel('Ratio of gender participation in the workforce')\n",
    "plt.show()\n",
    "\n",
    "fig.savefig('Analysis_Figures_Images/work_rat_hist.png')"
   ]
  },
  {
   "cell_type": "code",
   "execution_count": 27,
   "metadata": {},
   "outputs": [
    {
     "data": {
      "image/png": "[encoded data removed]",
      "text/plain": [
       "<Figure size 432x288 with 1 Axes>"
      ]
     },
     "metadata": {
      "needs_background": "light"
     },
     "output_type": "display_data"
    }
   ],
   "source": [
    "#histogram for Gini Index\n",
    "gini= gini_data['Gini Index Five Year Average']\n",
    "\n",
    "fig = gini.plot.hist(bins=10, alpha=0.4, color='c').get_figure()\n",
    "plt.title('Gini Coefficient Histogram')\n",
    "plt.ylabel('Country Frequency')\n",
    "plt.xlabel('Measure of Income Inequality: higher = more inequality')\n",
    "plt.show()\n",
    "\n",
    "fig.savefig('Analysis_Figures_Images/gini_hist.png')"
   ]
  }
 ],
 "metadata": {
  "kernelspec": {
   "display_name": "Python [conda env:PythonData]",
   "language": "python",
   "name": "conda-env-PythonData-py"
  },
  "language_info": {
   "codemirror_mode": {
    "name": "ipython",
    "version": 3
   },
   "file_extension": ".py",
   "mimetype": "text/x-python",
   "name": "python",
   "nbconvert_exporter": "python",
   "pygments_lexer": "ipython3",
   "version": "3.6.10"
  }
 },
 "nbformat": 4,
 "nbformat_minor": 4
}
